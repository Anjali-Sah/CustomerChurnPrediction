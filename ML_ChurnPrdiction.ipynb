{
  "nbformat": 4,
  "nbformat_minor": 0,
  "metadata": {
    "colab": {
      "name": "ML-ChurnPrdiction.ipynb",
      "provenance": [],
      "collapsed_sections": [],
      "include_colab_link": true
    },
    "kernelspec": {
      "name": "python3",
      "display_name": "Python 3"
    },
    "language_info": {
      "name": "python"
    }
  },
  "cells": [
    {
      "cell_type": "markdown",
      "metadata": {
        "id": "view-in-github",
        "colab_type": "text"
      },
      "source": [
        "<a href=\"https://colab.research.google.com/github/Anjali-Sah/CustomerChurnPrediction/blob/main/ML_ChurnPrdiction.ipynb\" target=\"_parent\"><img src=\"https://colab.research.google.com/assets/colab-badge.svg\" alt=\"Open In Colab\"/></a>"
      ]
    },
    {
      "cell_type": "markdown",
      "metadata": {
        "id": "-ssSxlkHBbQa"
      },
      "source": [
        "## Churn Prediction using Logisitic Regression"
      ]
    },
    {
      "cell_type": "markdown",
      "metadata": {
        "id": "C9NYkOGvBdjC"
      },
      "source": [
        "## Data Dictionary\n",
        "\n",
        "There are multiple variables in the dataset which can be cleanly divided in 3 categories:\n",
        "\n",
        "### Demographic information about customers\n",
        "\n",
        "<b>customer_id</b> - Customer id\n",
        "\n",
        "<b>vintage</b> - Vintage of the customer with the bank in number of days\n",
        "\n",
        "<b>age</b> - Age of customer\n",
        "\n",
        "<b>gender</b> - Gender of customer\n",
        "\n",
        "<b>dependents</b> - Number of dependents\n",
        "\n",
        "<b>occupation</b> - Occupation of the customer \n",
        "\n",
        "<b>city</b> - City of customer (anonymised)\n",
        "\n",
        "\n",
        "### Customer Bank Relationship\n",
        "\n",
        "\n",
        "<b>customer_nw_category</b> - Net worth of customer (3:Low 2:Medium 1:High)\n",
        "\n",
        "<b>branch_code</b> - Branch Code for customer account\n",
        "\n",
        "<b>days_since_last_transaction</b> - No of Days Since Last Credit in Last 1 year\n",
        "\n",
        "\n",
        "### Transactional Information\n",
        "\n",
        "<b>current_balance</b> - Balance as of today\n",
        "\n",
        "<b>previous_month_end_balance</b> - End of Month Balance of previous month\n",
        "\n",
        "\n",
        "<b>average_monthly_balance_prevQ</b> - Average monthly balances (AMB) in Previous Quarter\n",
        "\n",
        "<b>average_monthly_balance_prevQ2</b> - Average monthly balances (AMB) in previous to previous quarter\n",
        "\n",
        "<b>current_month_credit</b> - Total Credit Amount current month\n",
        "\n",
        "<b>previous_month_credit</b> - Total Credit Amount previous month\n",
        "\n",
        "<b>current_month_debit</b> - Total Debit Amount current month\n",
        "\n",
        "<b>previous_month_debit</b> - Total Debit Amount previous month\n",
        "\n",
        "<b>current_month_balance</b> - Average Balance of current month\n",
        "\n",
        "<b>previous_month_balance</b> - Average Balance of previous month\n",
        "\n",
        "<b>churn</b> - Average balance of customer falls below minimum balance in the next quarter (1/0)\n"
      ]
    },
    {
      "cell_type": "markdown",
      "metadata": {
        "id": "HOLRA95fBjd6"
      },
      "source": [
        "## Churn Prediction\n",
        "\n",
        "\n",
        "* Load Data & Packages for model building & preprocessing\n",
        "* Preprocessing & Missing value imputation\n",
        "* Select features on the basis of EDA Conclusions & build baseline model\n",
        "* Decide Evaluation Metric on the basis of business problem\n",
        "* Build model using all features & compare with baseline"
      ]
    },
    {
      "cell_type": "markdown",
      "metadata": {
        "id": "TKH6pgsCBsMo"
      },
      "source": [
        "### Loading Packages"
      ]
    },
    {
      "cell_type": "code",
      "metadata": {
        "id": "4yuEKfZoBVNU"
      },
      "source": [
        "from google.colab import drive\n",
        "drive.mount('/content/drive/')"
      ],
      "execution_count": null,
      "outputs": []
    },
    {
      "cell_type": "code",
      "metadata": {
        "id": "qI5XZU86Bzpt"
      },
      "source": [
        "import numpy as np\n",
        "import pandas as pd\n",
        "import seaborn as sns\n",
        "import matplotlib.pyplot as plt\n",
        "%matplotlib inline\n",
        "from sklearn.preprocessing import LabelEncoder\n",
        "from sklearn.preprocessing import StandardScaler\n",
        "from sklearn.linear_model import LogisticRegression\n",
        "from sklearn.model_selection import KFold, StratifiedKFold, train_test_split\n",
        "from sklearn.metrics import roc_auc_score, accuracy_score, confusion_matrix, roc_curve, precision_score, recall_score, precision_recall_curve\n",
        "import warnings\n",
        "warnings.simplefilter(action='ignore', category=FutureWarning)\n",
        "warnings.simplefilter(action='ignore', category=UserWarning)"
      ],
      "execution_count": null,
      "outputs": []
    },
    {
      "cell_type": "markdown",
      "metadata": {
        "id": "yQqnDkSZCHpv"
      },
      "source": [
        "### Loading Data"
      ]
    },
    {
      "cell_type": "code",
      "metadata": {
        "id": "1HWG3b1BCGzE"
      },
      "source": [
        "df = pd.read_csv(\"/content/drive/My Drive/ML/churn_prediction.csv\")"
      ],
      "execution_count": null,
      "outputs": []
    },
    {
      "cell_type": "markdown",
      "metadata": {
        "id": "eerAHs9SCcAA"
      },
      "source": [
        "### Missing Values\n",
        "Before we go on to build the model, we must look for missing values within the dataset as treating the missing values  is a necessary step before we fit a model on the dataset."
      ]
    },
    {
      "cell_type": "code",
      "metadata": {
        "colab": {
          "base_uri": "https://localhost:8080/"
        },
        "id": "gcpR8k7gCeb1",
        "outputId": "744e185a-115b-455a-b349-93b8aac726d1"
      },
      "source": [
        "pd.isnull(df).sum()"
      ],
      "execution_count": null,
      "outputs": [
        {
          "output_type": "execute_result",
          "data": {
            "text/plain": [
              "customer_id                          0\n",
              "vintage                              0\n",
              "age                                  0\n",
              "gender                             525\n",
              "dependents                        2463\n",
              "occupation                          80\n",
              "city                               803\n",
              "customer_nw_category                 0\n",
              "branch_code                          0\n",
              "days_since_last_transaction       3223\n",
              "current_balance                      0\n",
              "previous_month_end_balance           0\n",
              "average_monthly_balance_prevQ        0\n",
              "average_monthly_balance_prevQ2       0\n",
              "current_month_credit                 0\n",
              "previous_month_credit                0\n",
              "current_month_debit                  0\n",
              "previous_month_debit                 0\n",
              "current_month_balance                0\n",
              "previous_month_balance               0\n",
              "churn                                0\n",
              "dtype: int64"
            ]
          },
          "metadata": {},
          "execution_count": 4
        }
      ]
    },
    {
      "cell_type": "markdown",
      "metadata": {
        "id": "5_laL4TgClXV"
      },
      "source": [
        "The result of this function shows that there are quite a few missing values in columns gender, dependents, city, days since last transaction and Percentage change in credits. Let us go through each of them 1 by 1 to find the appropriate missing value imputation strategy for each of them."
      ]
    },
    {
      "cell_type": "markdown",
      "metadata": {
        "id": "6WjCtxoMCpoc"
      },
      "source": [
        "**Gender**"
      ]
    },
    {
      "cell_type": "code",
      "metadata": {
        "colab": {
          "base_uri": "https://localhost:8080/"
        },
        "id": "dVXeoMR3ChDF",
        "outputId": "9c4163e9-c644-4b10-9516-74f9ed022c38"
      },
      "source": [
        "df['gender'].value_counts()"
      ],
      "execution_count": null,
      "outputs": [
        {
          "output_type": "execute_result",
          "data": {
            "text/plain": [
              "Male      16548\n",
              "Female    11309\n",
              "Name: gender, dtype: int64"
            ]
          },
          "metadata": {},
          "execution_count": 5
        }
      ]
    },
    {
      "cell_type": "markdown",
      "metadata": {
        "id": "DyDZ_B9JC74e"
      },
      "source": [
        "So there is a good mix of males and females and arguably missing values cannot be filled with any one of them. We could create a seperate category by assigning the value -1 for all missing values in this column.\n",
        "\n",
        "Before that, first we will convert the gender into 0/1 and then replace missing values with -1\n"
      ]
    },
    {
      "cell_type": "code",
      "metadata": {
        "id": "KBlkMm65C1Jl"
      },
      "source": [
        "#Convert Gender\n",
        "dict_gender = {'Male': 1, 'Female':0}\n",
        "df.replace({'gender': dict_gender}, inplace = True)\n",
        "\n",
        "df['gender'] = df['gender'].fillna(-1)"
      ],
      "execution_count": null,
      "outputs": []
    },
    {
      "cell_type": "markdown",
      "metadata": {
        "id": "EOZ76WHWDDu3"
      },
      "source": [
        "#### Dependents, occupation and city with mode\n",
        "\n",
        "Looking at the dependents & occupations column and imputing it with mode."
      ]
    },
    {
      "cell_type": "code",
      "metadata": {
        "colab": {
          "base_uri": "https://localhost:8080/"
        },
        "id": "NkGPrbGBC_Xl",
        "outputId": "bf5a1edc-ebdf-4a0e-8275-6ee89a8b5d3c"
      },
      "source": [
        "df['dependents'].value_counts()"
      ],
      "execution_count": null,
      "outputs": [
        {
          "output_type": "execute_result",
          "data": {
            "text/plain": [
              "0.0     21435\n",
              "2.0      2150\n",
              "1.0      1395\n",
              "3.0       701\n",
              "4.0       179\n",
              "5.0        41\n",
              "6.0         8\n",
              "7.0         3\n",
              "36.0        1\n",
              "52.0        1\n",
              "25.0        1\n",
              "9.0         1\n",
              "50.0        1\n",
              "32.0        1\n",
              "8.0         1\n",
              "Name: dependents, dtype: int64"
            ]
          },
          "metadata": {},
          "execution_count": 7
        }
      ]
    },
    {
      "cell_type": "code",
      "metadata": {
        "colab": {
          "base_uri": "https://localhost:8080/"
        },
        "id": "1rrci70XDIeM",
        "outputId": "f7bdba60-33ca-45f1-aadb-bdaa51620c9d"
      },
      "source": [
        "df['occupation'].value_counts()"
      ],
      "execution_count": null,
      "outputs": [
        {
          "output_type": "execute_result",
          "data": {
            "text/plain": [
              "self_employed    17476\n",
              "salaried          6704\n",
              "student           2058\n",
              "retired           2024\n",
              "company             40\n",
              "Name: occupation, dtype: int64"
            ]
          },
          "metadata": {},
          "execution_count": 8
        }
      ]
    },
    {
      "cell_type": "code",
      "metadata": {
        "id": "_qEz_iURDNah"
      },
      "source": [
        "df['dependents'] = df['dependents'].fillna(0)\n",
        "df['occupation'] = df['occupation'].fillna('self_employed')"
      ],
      "execution_count": null,
      "outputs": []
    },
    {
      "cell_type": "markdown",
      "metadata": {
        "id": "0VD8o8uqDQ9L"
      },
      "source": [
        "Similarly City can also be imputed with most common category 1020"
      ]
    },
    {
      "cell_type": "code",
      "metadata": {
        "id": "aClgInUcDOSK"
      },
      "source": [
        "df['city'] = df['city'].fillna(1020)"
      ],
      "execution_count": null,
      "outputs": []
    },
    {
      "cell_type": "markdown",
      "metadata": {
        "id": "P7-YQoLtDWDS"
      },
      "source": [
        "#### Days since Last Transaction\n",
        "A fair assumption can be made on this column as this is number of days since last transaction in 1 year, we can substitute missing values with a value greater than 1 year say 999"
      ]
    },
    {
      "cell_type": "code",
      "metadata": {
        "id": "KyoTgQx6DUFV"
      },
      "source": [
        "df['days_since_last_transaction'] = df['days_since_last_transaction'].fillna(999)"
      ],
      "execution_count": null,
      "outputs": []
    },
    {
      "cell_type": "markdown",
      "metadata": {
        "id": "4o31iEqEDdXD"
      },
      "source": [
        "### Preprocessing\n",
        "\n",
        "To apply linear model such as logistic regression, we need to scale the data and keep all features as numeric strictly. \n"
      ]
    },
    {
      "cell_type": "markdown",
      "metadata": {
        "id": "2a_WQOqxDgpN"
      },
      "source": [
        "### Dummies with Multiple Categories"
      ]
    },
    {
      "cell_type": "code",
      "metadata": {
        "id": "kuCMj4e1DaJZ"
      },
      "source": [
        "# Convert occupation to one hot encoded features\n",
        "df = pd.concat([df,pd.get_dummies(df['occupation'],prefix = str('occupation'),prefix_sep='_')],axis = 1)"
      ],
      "execution_count": null,
      "outputs": []
    },
    {
      "cell_type": "markdown",
      "metadata": {
        "id": "yx3n-Gn3DpKa"
      },
      "source": [
        "### Scaling Numerical Features for Logistic Regression\n",
        "\n",
        "There are lot of outliers in the data set ans also the distributions are skewed for the features.\n",
        "We will take 2 steps to deal with that here:\n",
        "* Log Transformation\n",
        "* Standard Scaler"
      ]
    },
    {
      "cell_type": "code",
      "metadata": {
        "id": "w4kbZerEDiiq"
      },
      "source": [
        "num_cols = ['customer_nw_category', 'current_balance',\n",
        "            'previous_month_end_balance', 'average_monthly_balance_prevQ2', 'average_monthly_balance_prevQ',\n",
        "            'current_month_credit','previous_month_credit', 'current_month_debit', \n",
        "            'previous_month_debit','current_month_balance', 'previous_month_balance']\n",
        "for i in num_cols:\n",
        "    df[i] = np.log(df[i] + 17000)\n",
        "\n",
        "std = StandardScaler()\n",
        "scaled = std.fit_transform(df[num_cols])\n",
        "scaled = pd.DataFrame(scaled,columns=num_cols)"
      ],
      "execution_count": null,
      "outputs": []
    },
    {
      "cell_type": "code",
      "metadata": {
        "id": "4D7SoiaCDsZG"
      },
      "source": [
        "df_df_og = df.copy()\n",
        "df = df.drop(columns = num_cols,axis = 1)\n",
        "df = df.merge(scaled,left_index=True,right_index=True,how = \"left\")"
      ],
      "execution_count": null,
      "outputs": []
    },
    {
      "cell_type": "code",
      "metadata": {
        "id": "bZrhk288Dt30"
      },
      "source": [
        "y_all = df.churn\n",
        "df = df.drop(['churn','customer_id','occupation'],axis = 1)"
      ],
      "execution_count": null,
      "outputs": []
    },
    {
      "cell_type": "code",
      "metadata": {
        "id": "XqHe9K8IDvHM"
      },
      "source": [
        ""
      ],
      "execution_count": null,
      "outputs": []
    },
    {
      "cell_type": "markdown",
      "metadata": {
        "id": "xskKeXsjDyVp"
      },
      "source": [
        "## Model Building and Evaluation Metrics\n",
        "Since this is a binary classification problem, we could use the following 2 popular metrics:\n",
        "\n",
        "1. Recall\n",
        "2. Area under the Receiver operating characteristic curve\n",
        "\n",
        "Now, we are looking at the recall value here because a customer falsely marked as churn would not be as bad as a customer who was not detected as a churning customer and appropriate measures were not taken by the bank to stop him/her from churning"
      ]
    },
    {
      "cell_type": "markdown",
      "metadata": {
        "id": "J4TGss8XD7U8"
      },
      "source": [
        "### Conclusions from EDA\n",
        "* For debit values, we see that there is a significant difference in the distribution for churn and non churn and it might be turn out to be an important feature\n",
        "* For all the balance features the lower values have much higher proportion of churning customers\n",
        "* For most frequent vintage values, the churning customers are slightly higher, while for higher values of vintage, we have mostly non churning customers which is in sync with the age variable \n",
        "* We see significant difference for different occupations and certainly would be interesting to use as a feature for prediction of churn.\n",
        "\n",
        "Spliting our dataset into test and train and using the above conclusions select columns and build a baseline logistic regression model to check the ROC-AUC Score & the confusion matrix\n"
      ]
    },
    {
      "cell_type": "markdown",
      "metadata": {
        "id": "C20j9vHgEAQE"
      },
      "source": [
        "### Baseline Columns"
      ]
    },
    {
      "cell_type": "code",
      "metadata": {
        "id": "jpWYmLzyDy2L"
      },
      "source": [
        "baseline_cols = ['current_month_debit', 'previous_month_debit','current_balance','previous_month_end_balance','vintage'\n",
        "                 ,'occupation_retired', 'occupation_salaried','occupation_self_employed', 'occupation_student']"
      ],
      "execution_count": null,
      "outputs": []
    },
    {
      "cell_type": "code",
      "metadata": {
        "id": "V9H9u7BsECZZ"
      },
      "source": [
        "df_baseline = df[baseline_cols]"
      ],
      "execution_count": null,
      "outputs": []
    },
    {
      "cell_type": "markdown",
      "metadata": {
        "id": "6WmYkepvEPsP"
      },
      "source": [
        "### Train Test Split to create a validation set"
      ]
    },
    {
      "cell_type": "code",
      "metadata": {
        "id": "9HwpALBsEHz7"
      },
      "source": [
        "# Splitting the data into Train and Validation set\n",
        "xtrain, xtest, ytrain, ytest = train_test_split(df_baseline,y_all,test_size=1/3, random_state=11, stratify = y_all)"
      ],
      "execution_count": null,
      "outputs": []
    },
    {
      "cell_type": "code",
      "metadata": {
        "id": "ynhPYuTfEJZ5"
      },
      "source": [
        "model = LogisticRegression()\n",
        "model.fit(xtrain,ytrain)\n",
        "pred = model.predict_proba(xtest)[:,1]"
      ],
      "execution_count": null,
      "outputs": []
    },
    {
      "cell_type": "markdown",
      "metadata": {
        "id": "9giznIPtEUgq"
      },
      "source": [
        "### AUC ROC Curve & Confusion Matrix \n",
        "\n",
        "AUC-ROC curve for our logistic regression model and also the confusion matrix to see where the logistic regression model is failing here."
      ]
    },
    {
      "cell_type": "code",
      "metadata": {
        "colab": {
          "base_uri": "https://localhost:8080/",
          "height": 497
        },
        "id": "1r17vGpWEMhL",
        "outputId": "ab75437e-2285-4418-e64b-ae4338149b7b"
      },
      "source": [
        "from sklearn.metrics import roc_curve\n",
        "fpr, tpr, _ = roc_curve(ytest,pred) \n",
        "auc = roc_auc_score(ytest, pred) \n",
        "plt.figure(figsize=(12,8)) \n",
        "plt.plot(fpr,tpr,label=\"Validation AUC-ROC=\"+str(auc)) \n",
        "x = np.linspace(0, 1, 1000)\n",
        "plt.plot(x, x, linestyle='-')\n",
        "plt.xlabel('False Positive Rate') \n",
        "plt.ylabel('True Positive Rate') \n",
        "plt.legend(loc=4) \n",
        "plt.show()"
      ],
      "execution_count": null,
      "outputs": [
        {
          "output_type": "display_data",
          "data": {
            "image/png": "[encoded data removed]",
            "text/plain": [
              "<Figure size 864x576 with 1 Axes>"
            ]
          },
          "metadata": {
            "needs_background": "light"
          }
        }
      ]
    },
    {
      "cell_type": "code",
      "metadata": {
        "id": "pbZtMckJEZa-"
      },
      "source": [
        "# Confusion Matrix\n",
        "pred_val = model.predict(xtest)"
      ],
      "execution_count": null,
      "outputs": []
    },
    {
      "cell_type": "code",
      "metadata": {
        "colab": {
          "base_uri": "https://localhost:8080/",
          "height": 374
        },
        "id": "RV8xqgpSEd7G",
        "outputId": "4fc2b4da-f9a9-4ae8-b4a2-368cbb4a3c40"
      },
      "source": [
        "label_preds = pred_val\n",
        "\n",
        "cm = confusion_matrix(ytest,label_preds)\n",
        "\n",
        "\n",
        "def plot_confusion_matrix(cm, normalized=True, cmap='bone'):\n",
        "    plt.figure(figsize=[7, 6])\n",
        "    norm_cm = cm\n",
        "    if normalized:\n",
        "        norm_cm = cm.astype('float') / cm.sum(axis=1)[:, np.newaxis]\n",
        "        sns.heatmap(norm_cm, annot=cm, fmt='g', xticklabels=['Predicted: No','Predicted: Yes'], yticklabels=['Actual: No','Actual: Yes'], cmap=cmap)\n",
        "\n",
        "plot_confusion_matrix(cm, ['No', 'Yes'])"
      ],
      "execution_count": null,
      "outputs": [
        {
          "output_type": "display_data",
          "data": {
            "image/png": "[encoded data removed]",
            "text/plain": [
              "<Figure size 504x432 with 2 Axes>"
            ]
          },
          "metadata": {
            "needs_background": "light"
          }
        }
      ]
    },
    {
      "cell_type": "code",
      "metadata": {
        "colab": {
          "base_uri": "https://localhost:8080/"
        },
        "id": "AB4wPF_hEi3w",
        "outputId": "aa7a0dfa-d592-4150-f127-10ef4f4f3936"
      },
      "source": [
        "# Recall Score\n",
        "recall_score(ytest,pred_val)"
      ],
      "execution_count": null,
      "outputs": [
        {
          "output_type": "execute_result",
          "data": {
            "text/plain": [
              "0.11580148317170565"
            ]
          },
          "metadata": {},
          "execution_count": 24
        }
      ]
    },
    {
      "cell_type": "markdown",
      "metadata": {
        "id": "xPMNar4VEr-v"
      },
      "source": [
        "### Cross validation"
      ]
    },
    {
      "cell_type": "code",
      "metadata": {
        "id": "SkYc30GXEnIl"
      },
      "source": [
        "def cv_score(ml_model, rstate = 12, thres = 0.5, cols = df.columns):\n",
        "    i = 1\n",
        "    cv_scores = []\n",
        "    df1 = df.copy()\n",
        "    df1 = df[cols]\n",
        "    \n",
        "    # 5 Fold cross validation stratified on the basis of target\n",
        "    kf = StratifiedKFold(n_splits=5,random_state=rstate,shuffle=True)\n",
        "    for df_index,test_index in kf.split(df1,y_all):\n",
        "        print('\\n{} of kfold {}'.format(i,kf.n_splits))\n",
        "        xtr,xvl = df1.loc[df_index],df1.loc[test_index]\n",
        "        ytr,yvl = y_all.loc[df_index],y_all.loc[test_index]\n",
        "            \n",
        "        # Define model for fitting on the training set for each fold\n",
        "        model = ml_model\n",
        "        model.fit(xtr, ytr)\n",
        "        pred_probs = model.predict_proba(xvl)\n",
        "        pp = []\n",
        "         \n",
        "        # Use threshold to define the classes based on probability values\n",
        "        for j in pred_probs[:,1]:\n",
        "            if j>thres:\n",
        "                pp.append(1)\n",
        "            else:\n",
        "                pp.append(0)\n",
        "         \n",
        "        # Calculate scores for each fold and print\n",
        "        pred_val = pp\n",
        "        roc_score = roc_auc_score(yvl,pred_probs[:,1])\n",
        "        recall = recall_score(yvl,pred_val)\n",
        "        precision = precision_score(yvl,pred_val)\n",
        "        sufix = \"\"\n",
        "        msg = \"\"\n",
        "        msg += \"ROC AUC Score: {}, Recall Score: {:.4f}, Precision Score: {:.4f} \".format(roc_score, recall,precision)\n",
        "        print(\"{}\".format(msg))\n",
        "         \n",
        "         # Save scores\n",
        "        cv_scores.append(roc_score)\n",
        "        i+=1\n",
        "    return cv_scores"
      ],
      "execution_count": null,
      "outputs": []
    },
    {
      "cell_type": "code",
      "metadata": {
        "colab": {
          "base_uri": "https://localhost:8080/"
        },
        "id": "2MLge7miE0Oo",
        "outputId": "0ad22213-bcd5-4f6c-f341-d4e250628d57"
      },
      "source": [
        "baseline_scores = cv_score(LogisticRegression(), cols = baseline_cols)"
      ],
      "execution_count": null,
      "outputs": [
        {
          "output_type": "stream",
          "name": "stdout",
          "text": [
            "\n",
            "1 of kfold 5\n",
            "ROC AUC Score: 0.7644836090843695, Recall Score: 0.0751, Precision Score: 0.5766 \n",
            "\n",
            "2 of kfold 5\n",
            "ROC AUC Score: 0.7771883670742986, Recall Score: 0.0713, Precision Score: 0.6637 \n",
            "\n",
            "3 of kfold 5\n",
            "ROC AUC Score: 0.7552844639309537, Recall Score: 0.1350, Precision Score: 0.6425 \n",
            "\n",
            "4 of kfold 5\n",
            "ROC AUC Score: 0.7582062754088439, Recall Score: 0.1169, Precision Score: 0.6508 \n",
            "\n",
            "5 of kfold 5\n",
            "ROC AUC Score: 0.7622385931558936, Recall Score: 0.1103, Precision Score: 0.5800 \n"
          ]
        }
      ]
    },
    {
      "cell_type": "code",
      "metadata": {
        "colab": {
          "base_uri": "https://localhost:8080/"
        },
        "id": "9KITHqXnE3y6",
        "outputId": "bf2eb473-11da-4d8a-a810-985c1cb7010f"
      },
      "source": [
        "all_feat_scores = cv_score(LogisticRegression())"
      ],
      "execution_count": null,
      "outputs": [
        {
          "output_type": "stream",
          "name": "stdout",
          "text": [
            "\n",
            "1 of kfold 5\n",
            "ROC AUC Score: 0.7326761894974824, Recall Score: 0.1093, Precision Score: 0.5066 \n",
            "\n",
            "2 of kfold 5\n",
            "ROC AUC Score: 0.7682116945843181, Recall Score: 0.1958, Precision Score: 0.6799 \n",
            "\n",
            "3 of kfold 5\n",
            "ROC AUC Score: 0.7392966272843291, Recall Score: 0.1683, Precision Score: 0.5728 \n",
            "\n",
            "4 of kfold 5\n",
            "ROC AUC Score: 0.7638136947912691, Recall Score: 0.1901, Precision Score: 0.6689 \n",
            "\n",
            "5 of kfold 5\n",
            "ROC AUC Score: 0.7590760554948887, Recall Score: 0.1778, Precision Score: 0.6052 \n"
          ]
        }
      ]
    },
    {
      "cell_type": "markdown",
      "metadata": {
        "id": "fClVGDUVFAt8"
      },
      "source": [
        "There is some improvement in both ROC AUC Scores and Precision/Recall Scores."
      ]
    },
    {
      "cell_type": "code",
      "metadata": {
        "id": "2HE4E076E8zB"
      },
      "source": [
        "from sklearn.ensemble import RandomForestClassifier"
      ],
      "execution_count": null,
      "outputs": []
    },
    {
      "cell_type": "code",
      "metadata": {
        "colab": {
          "base_uri": "https://localhost:8080/"
        },
        "id": "WpF80SCrFCh3",
        "outputId": "2a7341a4-2e18-4a70-828f-8c6fa96b4819"
      },
      "source": [
        "rf_all_features = cv_score(RandomForestClassifier(n_estimators=100, max_depth=8))"
      ],
      "execution_count": null,
      "outputs": [
        {
          "output_type": "stream",
          "name": "stdout",
          "text": [
            "\n",
            "1 of kfold 5\n",
            "ROC AUC Score: 0.8204025280032885, Recall Score: 0.3498, Precision Score: 0.7273 \n",
            "\n",
            "2 of kfold 5\n",
            "ROC AUC Score: 0.8441668893227828, Recall Score: 0.3555, Precision Score: 0.7664 \n",
            "\n",
            "3 of kfold 5\n",
            "ROC AUC Score: 0.8353568585788151, Recall Score: 0.3555, Precision Score: 0.7495 \n",
            "\n",
            "4 of kfold 5\n",
            "ROC AUC Score: 0.8291273747812702, Recall Score: 0.3679, Precision Score: 0.7428 \n",
            "\n",
            "5 of kfold 5\n",
            "ROC AUC Score: 0.822884939873959, Recall Score: 0.3384, Precision Score: 0.7340 \n"
          ]
        }
      ]
    },
    {
      "cell_type": "markdown",
      "metadata": {
        "id": "kVXK5W4jFHDx"
      },
      "source": [
        "## Comparison of Different model fold wise\n",
        "\n",
        "Visualizing the cross validation scores for each fold for the following 3 models and observe differences:\n",
        "* Baseline Model\n",
        "* Model based on all features\n",
        "* Model based on top 10 features obtained from RFE"
      ]
    },
    {
      "cell_type": "code",
      "metadata": {
        "id": "c-OpNRuYFD3R"
      },
      "source": [
        "results_df = pd.DataFrame({'baseline':baseline_scores, 'all_feats': all_feat_scores, 'random_forest': rf_all_features})"
      ],
      "execution_count": null,
      "outputs": []
    },
    {
      "cell_type": "code",
      "metadata": {
        "colab": {
          "base_uri": "https://localhost:8080/",
          "height": 279
        },
        "id": "EMWy95DGFL-U",
        "outputId": "c9d85510-3b93-4795-99d5-7ddd1047f2ce"
      },
      "source": [
        "results_df.plot(y=[\"baseline\", \"all_feats\", \"random_forest\"], kind=\"bar\")"
      ],
      "execution_count": null,
      "outputs": [
        {
          "output_type": "execute_result",
          "data": {
            "text/plain": [
              "<matplotlib.axes._subplots.AxesSubplot at 0x7ff217ec5110>"
            ]
          },
          "metadata": {},
          "execution_count": 33
        },
        {
          "output_type": "display_data",
          "data": {
            "image/png": "[encoded data removed]",
            "text/plain": [
              "<Figure size 432x288 with 1 Axes>"
            ]
          },
          "metadata": {
            "needs_background": "light"
          }
        }
      ]
    },
    {
      "cell_type": "markdown",
      "metadata": {
        "id": "wbzdQ537FSLL"
      },
      "source": [
        "Here, we can see that the random forest model is giving the best result for each fold."
      ]
    },
    {
      "cell_type": "code",
      "metadata": {
        "id": "s1IyploxFSiN"
      },
      "source": [
        ""
      ],
      "execution_count": null,
      "outputs": []
    }
  ]
}